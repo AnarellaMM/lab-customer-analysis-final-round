{
 "cells": [
  {
   "cell_type": "markdown",
   "id": "c2829e83-e9b7-4c9e-b07c-84ddcc8d5675",
   "metadata": {},
   "source": [
    "In this customer analysis project, we aim to gain valuable insights from the marketing_customer_analysis.csv dataset. By following a structured approach, we will address the problem at hand and derive meaningful conclusions to assist in strategic decision-making. This dataset contains information about customers, including various features such as demographics, policy details, and sales channel preferences. Our ultimate goal is to build a predictive model that can provide accurate estimates of customer behavior and contribute to enhancing our marketing strategies."
   ]
  },
  {
   "cell_type": "code",
   "execution_count": 279,
   "id": "a3021dac-94b4-4549-a1ba-9d4a5571092e",
   "metadata": {},
   "outputs": [],
   "source": [
    "import pandas as pd\n",
    "from sklearn.model_selection import train_test_split\n",
    "from sklearn.preprocessing import StandardScaler\n",
    "from sklearn.preprocessing import OneHotEncoder\n",
    "from sklearn.linear_model import LinearRegression\n",
    "from sklearn.metrics import r2_score\n",
    "from sklearn.metrics import mean_squared_error, mean_squared_error\n",
    "from sklearn.impute import SimpleImputer\n",
    "import matplotlib.pyplot as plt\n",
    "import seaborn as sns\n",
    "\n",
    "import warnings\n",
    "warnings.filterwarnings('ignore')"
   ]
  },
  {
   "cell_type": "markdown",
   "id": "6139a16e-1119-46d7-9449-847496ab2e8e",
   "metadata": {},
   "source": [
    "Step 01 - Problem (Case Study):\n",
    "\n",
    "Data Description: We began by understanding the structure and contents of the marketing_customer_analysis dataset, which contains various customer-related attributes.\n",
    "Goal: Our objective is to leverage this dataset to create a predictive model that can help us better understand customer behavior and make informed marketing decisions."
   ]
  },
  {
   "cell_type": "code",
   "execution_count": 280,
   "id": "9916f896-eb2e-4ddb-873e-5af7daf311de",
   "metadata": {},
   "outputs": [
    {
     "data": {
      "text/html": [
       "<div>\n",
       "<style scoped>\n",
       "    .dataframe tbody tr th:only-of-type {\n",
       "        vertical-align: middle;\n",
       "    }\n",
       "\n",
       "    .dataframe tbody tr th {\n",
       "        vertical-align: top;\n",
       "    }\n",
       "\n",
       "    .dataframe thead th {\n",
       "        text-align: right;\n",
       "    }\n",
       "</style>\n",
       "<table border=\"1\" class=\"dataframe\">\n",
       "  <thead>\n",
       "    <tr style=\"text-align: right;\">\n",
       "      <th></th>\n",
       "      <th>Customer</th>\n",
       "      <th>State</th>\n",
       "      <th>Customer Lifetime Value</th>\n",
       "      <th>Response</th>\n",
       "      <th>Coverage</th>\n",
       "      <th>Education</th>\n",
       "      <th>Effective To Date</th>\n",
       "      <th>EmploymentStatus</th>\n",
       "      <th>Gender</th>\n",
       "      <th>Income</th>\n",
       "      <th>...</th>\n",
       "      <th>Months Since Policy Inception</th>\n",
       "      <th>Number of Open Complaints</th>\n",
       "      <th>Number of Policies</th>\n",
       "      <th>Policy Type</th>\n",
       "      <th>Policy</th>\n",
       "      <th>Renew Offer Type</th>\n",
       "      <th>Sales Channel</th>\n",
       "      <th>Total Claim Amount</th>\n",
       "      <th>Vehicle Class</th>\n",
       "      <th>Vehicle Size</th>\n",
       "    </tr>\n",
       "  </thead>\n",
       "  <tbody>\n",
       "    <tr>\n",
       "      <th>0</th>\n",
       "      <td>BU79786</td>\n",
       "      <td>Washington</td>\n",
       "      <td>2763.519279</td>\n",
       "      <td>No</td>\n",
       "      <td>Basic</td>\n",
       "      <td>Bachelor</td>\n",
       "      <td>2/24/11</td>\n",
       "      <td>Employed</td>\n",
       "      <td>F</td>\n",
       "      <td>56274</td>\n",
       "      <td>...</td>\n",
       "      <td>5</td>\n",
       "      <td>0</td>\n",
       "      <td>1</td>\n",
       "      <td>Corporate Auto</td>\n",
       "      <td>Corporate L3</td>\n",
       "      <td>Offer1</td>\n",
       "      <td>Agent</td>\n",
       "      <td>384.811147</td>\n",
       "      <td>Two-Door Car</td>\n",
       "      <td>Medsize</td>\n",
       "    </tr>\n",
       "    <tr>\n",
       "      <th>1</th>\n",
       "      <td>QZ44356</td>\n",
       "      <td>Arizona</td>\n",
       "      <td>6979.535903</td>\n",
       "      <td>No</td>\n",
       "      <td>Extended</td>\n",
       "      <td>Bachelor</td>\n",
       "      <td>1/31/11</td>\n",
       "      <td>Unemployed</td>\n",
       "      <td>F</td>\n",
       "      <td>0</td>\n",
       "      <td>...</td>\n",
       "      <td>42</td>\n",
       "      <td>0</td>\n",
       "      <td>8</td>\n",
       "      <td>Personal Auto</td>\n",
       "      <td>Personal L3</td>\n",
       "      <td>Offer3</td>\n",
       "      <td>Agent</td>\n",
       "      <td>1131.464935</td>\n",
       "      <td>Four-Door Car</td>\n",
       "      <td>Medsize</td>\n",
       "    </tr>\n",
       "    <tr>\n",
       "      <th>2</th>\n",
       "      <td>AI49188</td>\n",
       "      <td>Nevada</td>\n",
       "      <td>12887.431650</td>\n",
       "      <td>No</td>\n",
       "      <td>Premium</td>\n",
       "      <td>Bachelor</td>\n",
       "      <td>2/19/11</td>\n",
       "      <td>Employed</td>\n",
       "      <td>F</td>\n",
       "      <td>48767</td>\n",
       "      <td>...</td>\n",
       "      <td>38</td>\n",
       "      <td>0</td>\n",
       "      <td>2</td>\n",
       "      <td>Personal Auto</td>\n",
       "      <td>Personal L3</td>\n",
       "      <td>Offer1</td>\n",
       "      <td>Agent</td>\n",
       "      <td>566.472247</td>\n",
       "      <td>Two-Door Car</td>\n",
       "      <td>Medsize</td>\n",
       "    </tr>\n",
       "    <tr>\n",
       "      <th>3</th>\n",
       "      <td>WW63253</td>\n",
       "      <td>California</td>\n",
       "      <td>7645.861827</td>\n",
       "      <td>No</td>\n",
       "      <td>Basic</td>\n",
       "      <td>Bachelor</td>\n",
       "      <td>1/20/11</td>\n",
       "      <td>Unemployed</td>\n",
       "      <td>M</td>\n",
       "      <td>0</td>\n",
       "      <td>...</td>\n",
       "      <td>65</td>\n",
       "      <td>0</td>\n",
       "      <td>7</td>\n",
       "      <td>Corporate Auto</td>\n",
       "      <td>Corporate L2</td>\n",
       "      <td>Offer1</td>\n",
       "      <td>Call Center</td>\n",
       "      <td>529.881344</td>\n",
       "      <td>SUV</td>\n",
       "      <td>Medsize</td>\n",
       "    </tr>\n",
       "    <tr>\n",
       "      <th>4</th>\n",
       "      <td>HB64268</td>\n",
       "      <td>Washington</td>\n",
       "      <td>2813.692575</td>\n",
       "      <td>No</td>\n",
       "      <td>Basic</td>\n",
       "      <td>Bachelor</td>\n",
       "      <td>2/3/11</td>\n",
       "      <td>Employed</td>\n",
       "      <td>M</td>\n",
       "      <td>43836</td>\n",
       "      <td>...</td>\n",
       "      <td>44</td>\n",
       "      <td>0</td>\n",
       "      <td>1</td>\n",
       "      <td>Personal Auto</td>\n",
       "      <td>Personal L1</td>\n",
       "      <td>Offer1</td>\n",
       "      <td>Agent</td>\n",
       "      <td>138.130879</td>\n",
       "      <td>Four-Door Car</td>\n",
       "      <td>Medsize</td>\n",
       "    </tr>\n",
       "    <tr>\n",
       "      <th>...</th>\n",
       "      <td>...</td>\n",
       "      <td>...</td>\n",
       "      <td>...</td>\n",
       "      <td>...</td>\n",
       "      <td>...</td>\n",
       "      <td>...</td>\n",
       "      <td>...</td>\n",
       "      <td>...</td>\n",
       "      <td>...</td>\n",
       "      <td>...</td>\n",
       "      <td>...</td>\n",
       "      <td>...</td>\n",
       "      <td>...</td>\n",
       "      <td>...</td>\n",
       "      <td>...</td>\n",
       "      <td>...</td>\n",
       "      <td>...</td>\n",
       "      <td>...</td>\n",
       "      <td>...</td>\n",
       "      <td>...</td>\n",
       "      <td>...</td>\n",
       "    </tr>\n",
       "    <tr>\n",
       "      <th>9129</th>\n",
       "      <td>LA72316</td>\n",
       "      <td>California</td>\n",
       "      <td>23405.987980</td>\n",
       "      <td>No</td>\n",
       "      <td>Basic</td>\n",
       "      <td>Bachelor</td>\n",
       "      <td>2/10/11</td>\n",
       "      <td>Employed</td>\n",
       "      <td>M</td>\n",
       "      <td>71941</td>\n",
       "      <td>...</td>\n",
       "      <td>89</td>\n",
       "      <td>0</td>\n",
       "      <td>2</td>\n",
       "      <td>Personal Auto</td>\n",
       "      <td>Personal L1</td>\n",
       "      <td>Offer2</td>\n",
       "      <td>Web</td>\n",
       "      <td>198.234764</td>\n",
       "      <td>Four-Door Car</td>\n",
       "      <td>Medsize</td>\n",
       "    </tr>\n",
       "    <tr>\n",
       "      <th>9130</th>\n",
       "      <td>PK87824</td>\n",
       "      <td>California</td>\n",
       "      <td>3096.511217</td>\n",
       "      <td>Yes</td>\n",
       "      <td>Extended</td>\n",
       "      <td>College</td>\n",
       "      <td>2/12/11</td>\n",
       "      <td>Employed</td>\n",
       "      <td>F</td>\n",
       "      <td>21604</td>\n",
       "      <td>...</td>\n",
       "      <td>28</td>\n",
       "      <td>0</td>\n",
       "      <td>1</td>\n",
       "      <td>Corporate Auto</td>\n",
       "      <td>Corporate L3</td>\n",
       "      <td>Offer1</td>\n",
       "      <td>Branch</td>\n",
       "      <td>379.200000</td>\n",
       "      <td>Four-Door Car</td>\n",
       "      <td>Medsize</td>\n",
       "    </tr>\n",
       "    <tr>\n",
       "      <th>9131</th>\n",
       "      <td>TD14365</td>\n",
       "      <td>California</td>\n",
       "      <td>8163.890428</td>\n",
       "      <td>No</td>\n",
       "      <td>Extended</td>\n",
       "      <td>Bachelor</td>\n",
       "      <td>2/6/11</td>\n",
       "      <td>Unemployed</td>\n",
       "      <td>M</td>\n",
       "      <td>0</td>\n",
       "      <td>...</td>\n",
       "      <td>37</td>\n",
       "      <td>3</td>\n",
       "      <td>2</td>\n",
       "      <td>Corporate Auto</td>\n",
       "      <td>Corporate L2</td>\n",
       "      <td>Offer1</td>\n",
       "      <td>Branch</td>\n",
       "      <td>790.784983</td>\n",
       "      <td>Four-Door Car</td>\n",
       "      <td>Medsize</td>\n",
       "    </tr>\n",
       "    <tr>\n",
       "      <th>9132</th>\n",
       "      <td>UP19263</td>\n",
       "      <td>California</td>\n",
       "      <td>7524.442436</td>\n",
       "      <td>No</td>\n",
       "      <td>Extended</td>\n",
       "      <td>College</td>\n",
       "      <td>2/3/11</td>\n",
       "      <td>Employed</td>\n",
       "      <td>M</td>\n",
       "      <td>21941</td>\n",
       "      <td>...</td>\n",
       "      <td>3</td>\n",
       "      <td>0</td>\n",
       "      <td>3</td>\n",
       "      <td>Personal Auto</td>\n",
       "      <td>Personal L2</td>\n",
       "      <td>Offer3</td>\n",
       "      <td>Branch</td>\n",
       "      <td>691.200000</td>\n",
       "      <td>Four-Door Car</td>\n",
       "      <td>Large</td>\n",
       "    </tr>\n",
       "    <tr>\n",
       "      <th>9133</th>\n",
       "      <td>Y167826</td>\n",
       "      <td>California</td>\n",
       "      <td>2611.836866</td>\n",
       "      <td>No</td>\n",
       "      <td>Extended</td>\n",
       "      <td>College</td>\n",
       "      <td>2/14/11</td>\n",
       "      <td>Unemployed</td>\n",
       "      <td>M</td>\n",
       "      <td>0</td>\n",
       "      <td>...</td>\n",
       "      <td>90</td>\n",
       "      <td>0</td>\n",
       "      <td>1</td>\n",
       "      <td>Corporate Auto</td>\n",
       "      <td>Corporate L3</td>\n",
       "      <td>Offer4</td>\n",
       "      <td>Call Center</td>\n",
       "      <td>369.600000</td>\n",
       "      <td>Two-Door Car</td>\n",
       "      <td>Medsize</td>\n",
       "    </tr>\n",
       "  </tbody>\n",
       "</table>\n",
       "<p>9134 rows × 24 columns</p>\n",
       "</div>"
      ],
      "text/plain": [
       "     Customer       State  Customer Lifetime Value Response  Coverage   \n",
       "0     BU79786  Washington              2763.519279       No     Basic  \\\n",
       "1     QZ44356     Arizona              6979.535903       No  Extended   \n",
       "2     AI49188      Nevada             12887.431650       No   Premium   \n",
       "3     WW63253  California              7645.861827       No     Basic   \n",
       "4     HB64268  Washington              2813.692575       No     Basic   \n",
       "...       ...         ...                      ...      ...       ...   \n",
       "9129  LA72316  California             23405.987980       No     Basic   \n",
       "9130  PK87824  California              3096.511217      Yes  Extended   \n",
       "9131  TD14365  California              8163.890428       No  Extended   \n",
       "9132  UP19263  California              7524.442436       No  Extended   \n",
       "9133  Y167826  California              2611.836866       No  Extended   \n",
       "\n",
       "     Education Effective To Date EmploymentStatus Gender  Income  ...   \n",
       "0     Bachelor           2/24/11         Employed      F   56274  ...  \\\n",
       "1     Bachelor           1/31/11       Unemployed      F       0  ...   \n",
       "2     Bachelor           2/19/11         Employed      F   48767  ...   \n",
       "3     Bachelor           1/20/11       Unemployed      M       0  ...   \n",
       "4     Bachelor            2/3/11         Employed      M   43836  ...   \n",
       "...        ...               ...              ...    ...     ...  ...   \n",
       "9129  Bachelor           2/10/11         Employed      M   71941  ...   \n",
       "9130   College           2/12/11         Employed      F   21604  ...   \n",
       "9131  Bachelor            2/6/11       Unemployed      M       0  ...   \n",
       "9132   College            2/3/11         Employed      M   21941  ...   \n",
       "9133   College           2/14/11       Unemployed      M       0  ...   \n",
       "\n",
       "     Months Since Policy Inception Number of Open Complaints   \n",
       "0                                5                         0  \\\n",
       "1                               42                         0   \n",
       "2                               38                         0   \n",
       "3                               65                         0   \n",
       "4                               44                         0   \n",
       "...                            ...                       ...   \n",
       "9129                            89                         0   \n",
       "9130                            28                         0   \n",
       "9131                            37                         3   \n",
       "9132                             3                         0   \n",
       "9133                            90                         0   \n",
       "\n",
       "      Number of Policies     Policy Type        Policy  Renew Offer Type   \n",
       "0                      1  Corporate Auto  Corporate L3            Offer1  \\\n",
       "1                      8   Personal Auto   Personal L3            Offer3   \n",
       "2                      2   Personal Auto   Personal L3            Offer1   \n",
       "3                      7  Corporate Auto  Corporate L2            Offer1   \n",
       "4                      1   Personal Auto   Personal L1            Offer1   \n",
       "...                  ...             ...           ...               ...   \n",
       "9129                   2   Personal Auto   Personal L1            Offer2   \n",
       "9130                   1  Corporate Auto  Corporate L3            Offer1   \n",
       "9131                   2  Corporate Auto  Corporate L2            Offer1   \n",
       "9132                   3   Personal Auto   Personal L2            Offer3   \n",
       "9133                   1  Corporate Auto  Corporate L3            Offer4   \n",
       "\n",
       "      Sales Channel Total Claim Amount  Vehicle Class Vehicle Size  \n",
       "0             Agent         384.811147   Two-Door Car      Medsize  \n",
       "1             Agent        1131.464935  Four-Door Car      Medsize  \n",
       "2             Agent         566.472247   Two-Door Car      Medsize  \n",
       "3       Call Center         529.881344            SUV      Medsize  \n",
       "4             Agent         138.130879  Four-Door Car      Medsize  \n",
       "...             ...                ...            ...          ...  \n",
       "9129            Web         198.234764  Four-Door Car      Medsize  \n",
       "9130         Branch         379.200000  Four-Door Car      Medsize  \n",
       "9131         Branch         790.784983  Four-Door Car      Medsize  \n",
       "9132         Branch         691.200000  Four-Door Car        Large  \n",
       "9133    Call Center         369.600000   Two-Door Car      Medsize  \n",
       "\n",
       "[9134 rows x 24 columns]"
      ]
     },
     "execution_count": 280,
     "metadata": {},
     "output_type": "execute_result"
    }
   ],
   "source": [
    "data =  pd.read_csv('files_for_lab/csv_files/marketing_customer_analysis.csv', sep=',')\n",
    "data"
   ]
  },
  {
   "cell_type": "code",
   "execution_count": 281,
   "id": "040751f9-542c-47f6-903e-afe688da2373",
   "metadata": {},
   "outputs": [
    {
     "name": "stdout",
     "output_type": "stream",
     "text": [
      "  Customer       State  Customer Lifetime Value Response  Coverage Education   \n",
      "0  BU79786  Washington              2763.519279       No     Basic  Bachelor  \\\n",
      "1  QZ44356     Arizona              6979.535903       No  Extended  Bachelor   \n",
      "2  AI49188      Nevada             12887.431650       No   Premium  Bachelor   \n",
      "3  WW63253  California              7645.861827       No     Basic  Bachelor   \n",
      "4  HB64268  Washington              2813.692575       No     Basic  Bachelor   \n",
      "\n",
      "  Effective To Date EmploymentStatus Gender  Income  ...   \n",
      "0           2/24/11         Employed      F   56274  ...  \\\n",
      "1           1/31/11       Unemployed      F       0  ...   \n",
      "2           2/19/11         Employed      F   48767  ...   \n",
      "3           1/20/11       Unemployed      M       0  ...   \n",
      "4            2/3/11         Employed      M   43836  ...   \n",
      "\n",
      "  Months Since Policy Inception Number of Open Complaints  Number of Policies   \n",
      "0                             5                         0                   1  \\\n",
      "1                            42                         0                   8   \n",
      "2                            38                         0                   2   \n",
      "3                            65                         0                   7   \n",
      "4                            44                         0                   1   \n",
      "\n",
      "      Policy Type        Policy  Renew Offer Type  Sales Channel   \n",
      "0  Corporate Auto  Corporate L3            Offer1          Agent  \\\n",
      "1   Personal Auto   Personal L3            Offer3          Agent   \n",
      "2   Personal Auto   Personal L3            Offer1          Agent   \n",
      "3  Corporate Auto  Corporate L2            Offer1    Call Center   \n",
      "4   Personal Auto   Personal L1            Offer1          Agent   \n",
      "\n",
      "  Total Claim Amount  Vehicle Class Vehicle Size  \n",
      "0         384.811147   Two-Door Car      Medsize  \n",
      "1        1131.464935  Four-Door Car      Medsize  \n",
      "2         566.472247   Two-Door Car      Medsize  \n",
      "3         529.881344            SUV      Medsize  \n",
      "4         138.130879  Four-Door Car      Medsize  \n",
      "\n",
      "[5 rows x 24 columns]\n"
     ]
    }
   ],
   "source": [
    "print(data.head())"
   ]
  },
  {
   "cell_type": "markdown",
   "id": "129b4f62-94bc-4e9f-9214-b4f375c51e77",
   "metadata": {},
   "source": [
    "Step 02 - Cleaning/Wrangling/EDA\n",
    "\n",
    "Change Headers Names: To enhance clarity, we renamed columns as needed, ensuring a user-friendly structure.\n",
    "\n",
    "Deal with NaN Values: We addressed missing data by employing appropriate strategies, such as imputation or removal.\n",
    "\n",
    "Categorical Features: We explored categorical attributes and considered potential ways to encode them for modeling.\n",
    "\n",
    "Numerical Features: Numerical attributes were examined for distribution and potential outliers.\n",
    "\n",
    "Exploration: Through visualizations and statistical summaries, we gained insights into the dataset's characteristics.\n"
   ]
  },
  {
   "cell_type": "code",
   "execution_count": 282,
   "id": "1fd3d71d-9ca9-4f12-b50a-98f7d4843f10",
   "metadata": {},
   "outputs": [
    {
     "name": "stdout",
     "output_type": "stream",
     "text": [
      "Index(['Customer', 'State', 'Customer Lifetime Value', 'Response', 'Coverage',\n",
      "       'Education', 'Effective To Date', 'EmploymentStatus', 'Gender',\n",
      "       'Income', 'Location Code', 'Marital Status', 'Monthly Premium Auto',\n",
      "       'Months Since Last Claim', 'Months Since Policy Inception',\n",
      "       'Number of Open Complaints', 'Number of Policies', 'Policy Type',\n",
      "       'Policy', 'Renew Offer Type', 'Sales Channel', 'Total Claim Amount',\n",
      "       'Vehicle Class', 'Vehicle Size'],\n",
      "      dtype='object')\n"
     ]
    }
   ],
   "source": [
    "print(data.columns)"
   ]
  },
  {
   "cell_type": "code",
   "execution_count": 283,
   "id": "49ff0db9-670e-4bfb-a226-d7ff221aa06e",
   "metadata": {},
   "outputs": [
    {
     "name": "stdout",
     "output_type": "stream",
     "text": [
      "Index(['CUSTOMER', 'STATE', 'CUSTOMER_LIFETIME_VALUE', 'RESPONSE', 'COVERAGE',\n",
      "       'EDUCATION', 'EFFECTIVE_TO_DATE', 'EMPLOYMENTSTATUS', 'GENDER',\n",
      "       'INCOME', 'LOCATION_CODE', 'MARITAL_STATUS', 'MONTHLY_PREMIUM_AUTO',\n",
      "       'MONTHS_SINCE_LAST_CLAIM', 'MONTHS_SINCE_POLICY_INCEPTION',\n",
      "       'NUMBER_OF_OPEN_COMPLAINTS', 'NUMBER_OF_POLICIES', 'POLICY_TYPE',\n",
      "       'POLICY', 'RENEW_OFFER_TYPE', 'SALES_CHANNEL', 'TOTAL_CLAIM_AMOUNT',\n",
      "       'VEHICLE_CLASS', 'VEHICLE_SIZE'],\n",
      "      dtype='object')\n"
     ]
    }
   ],
   "source": [
    "data.columns = data.columns.str.upper().str.replace(' ', '_')\n",
    "print(data.columns)"
   ]
  },
  {
   "cell_type": "code",
   "execution_count": 284,
   "id": "21898428-8d55-4822-967e-99ccb4a36e25",
   "metadata": {},
   "outputs": [],
   "source": [
    "data.dropna(inplace=True) "
   ]
  },
  {
   "cell_type": "code",
   "execution_count": 285,
   "id": "39c32040-2e5b-4f31-9ff1-fdce11c0817e",
   "metadata": {},
   "outputs": [
    {
     "name": "stdout",
     "output_type": "stream",
     "text": [
      "CUSTOMER                         0\n",
      "STATE                            0\n",
      "CUSTOMER_LIFETIME_VALUE          0\n",
      "RESPONSE                         0\n",
      "COVERAGE                         0\n",
      "EDUCATION                        0\n",
      "EFFECTIVE_TO_DATE                0\n",
      "EMPLOYMENTSTATUS                 0\n",
      "GENDER                           0\n",
      "INCOME                           0\n",
      "LOCATION_CODE                    0\n",
      "MARITAL_STATUS                   0\n",
      "MONTHLY_PREMIUM_AUTO             0\n",
      "MONTHS_SINCE_LAST_CLAIM          0\n",
      "MONTHS_SINCE_POLICY_INCEPTION    0\n",
      "NUMBER_OF_OPEN_COMPLAINTS        0\n",
      "NUMBER_OF_POLICIES               0\n",
      "POLICY_TYPE                      0\n",
      "POLICY                           0\n",
      "RENEW_OFFER_TYPE                 0\n",
      "SALES_CHANNEL                    0\n",
      "TOTAL_CLAIM_AMOUNT               0\n",
      "VEHICLE_CLASS                    0\n",
      "VEHICLE_SIZE                     0\n",
      "dtype: int64\n"
     ]
    }
   ],
   "source": [
    "null_counts = data.isnull().sum()\n",
    "print(null_counts)"
   ]
  },
  {
   "cell_type": "code",
   "execution_count": 286,
   "id": "ee99fbbc-3410-4642-ba25-6723c704f3b2",
   "metadata": {},
   "outputs": [
    {
     "name": "stdout",
     "output_type": "stream",
     "text": [
      "CUSTOMER                          object\n",
      "STATE                             object\n",
      "CUSTOMER_LIFETIME_VALUE          float64\n",
      "RESPONSE                          object\n",
      "COVERAGE                          object\n",
      "EDUCATION                         object\n",
      "EFFECTIVE_TO_DATE                 object\n",
      "EMPLOYMENTSTATUS                  object\n",
      "GENDER                            object\n",
      "INCOME                             int64\n",
      "LOCATION_CODE                     object\n",
      "MARITAL_STATUS                    object\n",
      "MONTHLY_PREMIUM_AUTO               int64\n",
      "MONTHS_SINCE_LAST_CLAIM            int64\n",
      "MONTHS_SINCE_POLICY_INCEPTION      int64\n",
      "NUMBER_OF_OPEN_COMPLAINTS          int64\n",
      "NUMBER_OF_POLICIES                 int64\n",
      "POLICY_TYPE                       object\n",
      "POLICY                            object\n",
      "RENEW_OFFER_TYPE                  object\n",
      "SALES_CHANNEL                     object\n",
      "TOTAL_CLAIM_AMOUNT               float64\n",
      "VEHICLE_CLASS                     object\n",
      "VEHICLE_SIZE                      object\n",
      "dtype: object\n"
     ]
    }
   ],
   "source": [
    "print(data.dtypes)"
   ]
  },
  {
   "cell_type": "code",
   "execution_count": 287,
   "id": "44104151-7972-43eb-887d-2a2e866e7b0a",
   "metadata": {},
   "outputs": [
    {
     "name": "stdout",
     "output_type": "stream",
     "text": [
      "CUSTOMER             object\n",
      "STATE                object\n",
      "RESPONSE             object\n",
      "COVERAGE             object\n",
      "EDUCATION            object\n",
      "EFFECTIVE_TO_DATE    object\n",
      "EMPLOYMENTSTATUS     object\n",
      "GENDER               object\n",
      "LOCATION_CODE        object\n",
      "MARITAL_STATUS       object\n",
      "POLICY_TYPE          object\n",
      "POLICY               object\n",
      "RENEW_OFFER_TYPE     object\n",
      "SALES_CHANNEL        object\n",
      "VEHICLE_CLASS        object\n",
      "VEHICLE_SIZE         object\n",
      "dtype: object\n"
     ]
    }
   ],
   "source": [
    "def display_categorical_columns(df):\n",
    "    categorical_columns = df.select_dtypes(include=['object']).columns\n",
    "    categorical_data = df[categorical_columns]\n",
    "    print(categorical_data.dtypes)\n",
    "\n",
    "# Call the function\n",
    "display_categorical_columns(data)"
   ]
  },
  {
   "cell_type": "code",
   "execution_count": 288,
   "id": "3fb8de6b-2a37-47be-92cc-18c27bc5f7b4",
   "metadata": {},
   "outputs": [
    {
     "name": "stdout",
     "output_type": "stream",
     "text": [
      "CUSTOMER_LIFETIME_VALUE          float64\n",
      "INCOME                             int64\n",
      "MONTHLY_PREMIUM_AUTO               int64\n",
      "MONTHS_SINCE_LAST_CLAIM            int64\n",
      "MONTHS_SINCE_POLICY_INCEPTION      int64\n",
      "NUMBER_OF_OPEN_COMPLAINTS          int64\n",
      "NUMBER_OF_POLICIES                 int64\n",
      "TOTAL_CLAIM_AMOUNT               float64\n",
      "dtype: object\n"
     ]
    }
   ],
   "source": [
    "def display_numerical_columns(df):\n",
    "    numerical_columns = df.select_dtypes(include=['int64', 'float64']).columns\n",
    "    numerical_data = df[numerical_columns]\n",
    "    print(numerical_data.dtypes)\n",
    "display_numerical_columns(data)"
   ]
  },
  {
   "cell_type": "markdown",
   "id": "bb5eba41-a914-4f3e-99c3-1965dbca4eb9",
   "metadata": {},
   "source": [
    "Step 03 - Processing Data"
   ]
  },
  {
   "cell_type": "code",
   "execution_count": 289,
   "id": "35644a9d-691b-4b38-a544-283bbe44a833",
   "metadata": {},
   "outputs": [],
   "source": [
    "#Dealing with Outliers: Remove rows with extreme values\n",
    "numerical_cols = ['CUSTOMER_LIFETIME_VALUE', 'INCOME', 'MONTHLY_PREMIUM_AUTO', 'MONTHS_SINCE_LAST_CLAIM', 'MONTHS_SINCE_POLICY_INCEPTION', 'NUMBER_OF_OPEN_COMPLAINTS', 'NUMBER_OF_POLICIES', 'TOTAL_CLAIM_AMOUNT']\n",
    "data_cleaned = data[(data[numerical_cols] < data[numerical_cols].quantile(0.99)) & (data[numerical_cols] > data[numerical_cols].quantile(0.01))]"
   ]
  },
  {
   "cell_type": "code",
   "execution_count": 290,
   "id": "4ac64936-dbcb-4e35-8ddd-094d7388a518",
   "metadata": {},
   "outputs": [],
   "source": [
    "scaler = StandardScaler()\n",
    "data_cleaned[numerical_cols] = scaler.fit_transform(data_cleaned[numerical_cols])"
   ]
  },
  {
   "cell_type": "code",
   "execution_count": 291,
   "id": "3012e37f-4029-48db-bdf5-77c3b39553ee",
   "metadata": {},
   "outputs": [],
   "source": [
    "categorical_cols = ['GENDER', 'POLICY_TYPE', 'SALES_CHANNEL', 'CUSTOMER', 'STATE', 'RESPONSE', 'COVERAGE', 'EDUCATION', 'EFFECTIVE_TO_DATE', 'EMPLOYMENTSTATUS', 'LOCATION_CODE', 'MARITAL_STATUS', 'POLICY', 'RENEW_OFFER_TYPE', 'SALES_CHANNEL', 'VEHICLE_CLASS', 'VEHICLE_SIZE']  # Add more categorical columns\n",
    "encoder = OneHotEncoder(drop='first', sparse=False)\n",
    "encoded_categorical = pd.DataFrame(encoder.fit_transform(data_cleaned[categorical_cols]))\n",
    "data_cleaned.drop(columns=categorical_cols, inplace=True)\n",
    "data_cleaned = pd.concat([data_cleaned, encoded_categorical], axis=1)"
   ]
  },
  {
   "cell_type": "code",
   "execution_count": 292,
   "id": "944ca434-b096-4151-8922-e2e6c6c8822d",
   "metadata": {},
   "outputs": [],
   "source": [
    "X = data_cleaned.drop(columns=['TOTAL_CLAIM_AMOUNT'])  \n",
    "y = data_cleaned['TOTAL_CLAIM_AMOUNT'] \n",
    "X_train, X_test, y_train, y_test = train_test_split(X, y, test_size=0.2, random_state=42)\n"
   ]
  },
  {
   "cell_type": "code",
   "execution_count": 293,
   "id": "912a2744-b6d9-494d-a638-93501ea0541c",
   "metadata": {},
   "outputs": [
    {
     "name": "stdout",
     "output_type": "stream",
     "text": [
      "Cleaned Data Shape: (9134, 8)\n",
      "X_train shape: (7307, 7) X_test shape: (1827, 7)\n",
      "y_train shape: (7307,) y_test shape: (1827,)\n"
     ]
    }
   ],
   "source": [
    "print(\"Cleaned Data Shape:\", data_cleaned.shape)\n",
    "print(\"X_train shape:\", X_train.shape, \"X_test shape:\", X_test.shape)\n",
    "print(\"y_train shape:\", y_train.shape, \"y_test shape:\", y_test.shape)"
   ]
  },
  {
   "cell_type": "markdown",
   "id": "b37391e9-f0fb-4eea-b6b4-1a864f15a1e7",
   "metadata": {},
   "source": [
    "1.Cleaned Data Shape: (9134, 8)\n",
    "\n",
    "After cleaning, we have 9134 data entries with 8 features.\n",
    "X_train shape: (7307, 7) X_test shape: (1827, 7)\n",
    "\n",
    "\n",
    "2.For training, there are 7307 data entries with 7 features each.\n",
    "For testing, there are 1827 data entries with the same 7 features.\n",
    "y_train shape: (7307,) y_test shape: (1827,)\n",
    "\n",
    "\n",
    "3.For training, there are 7307 corresponding target values.\n",
    "For testing, there are 1827 corresponding target values.\n",
    "In summary, we've processed and organized the data. The training and testing sets allow us to train a model on one subset and then test its performance on another to ensure it works well on new data."
   ]
  },
  {
   "cell_type": "code",
   "execution_count": 294,
   "id": "5f080038-9733-4e0d-8fed-fae9ae6aa756",
   "metadata": {},
   "outputs": [],
   "source": [
    "model = LinearRegression()\n"
   ]
  },
  {
   "cell_type": "code",
   "execution_count": 295,
   "id": "e451150e-a6c6-409e-b002-9ebbb11e93ac",
   "metadata": {},
   "outputs": [],
   "source": [
    "imputer = SimpleImputer(strategy='mean')\n",
    "X_train_imputed = imputer.fit_transform(X_train)\n",
    "X_test_imputed = imputer.transform(X_test)"
   ]
  },
  {
   "cell_type": "code",
   "execution_count": 296,
   "id": "a859dee0-ac4f-43cd-937e-a5f74dab902d",
   "metadata": {},
   "outputs": [],
   "source": [
    "imputer_y = SimpleImputer(strategy='mean')\n",
    "y_train_imputed = imputer_y.fit_transform(y_train.values.reshape(-1, 1)).flatten()\n",
    "y_test_imputed = imputer_y.transform(y_test.values.reshape(-1, 1)).flatten()"
   ]
  },
  {
   "cell_type": "code",
   "execution_count": 297,
   "id": "6891ee4f-76d6-41e0-9221-0a3b7ca7586d",
   "metadata": {},
   "outputs": [
    {
     "data": {
      "text/html": [
       "<style>#sk-container-id-8 {color: black;background-color: white;}#sk-container-id-8 pre{padding: 0;}#sk-container-id-8 div.sk-toggleable {background-color: white;}#sk-container-id-8 label.sk-toggleable__label {cursor: pointer;display: block;width: 100%;margin-bottom: 0;padding: 0.3em;box-sizing: border-box;text-align: center;}#sk-container-id-8 label.sk-toggleable__label-arrow:before {content: \"▸\";float: left;margin-right: 0.25em;color: #696969;}#sk-container-id-8 label.sk-toggleable__label-arrow:hover:before {color: black;}#sk-container-id-8 div.sk-estimator:hover label.sk-toggleable__label-arrow:before {color: black;}#sk-container-id-8 div.sk-toggleable__content {max-height: 0;max-width: 0;overflow: hidden;text-align: left;background-color: #f0f8ff;}#sk-container-id-8 div.sk-toggleable__content pre {margin: 0.2em;color: black;border-radius: 0.25em;background-color: #f0f8ff;}#sk-container-id-8 input.sk-toggleable__control:checked~div.sk-toggleable__content {max-height: 200px;max-width: 100%;overflow: auto;}#sk-container-id-8 input.sk-toggleable__control:checked~label.sk-toggleable__label-arrow:before {content: \"▾\";}#sk-container-id-8 div.sk-estimator input.sk-toggleable__control:checked~label.sk-toggleable__label {background-color: #d4ebff;}#sk-container-id-8 div.sk-label input.sk-toggleable__control:checked~label.sk-toggleable__label {background-color: #d4ebff;}#sk-container-id-8 input.sk-hidden--visually {border: 0;clip: rect(1px 1px 1px 1px);clip: rect(1px, 1px, 1px, 1px);height: 1px;margin: -1px;overflow: hidden;padding: 0;position: absolute;width: 1px;}#sk-container-id-8 div.sk-estimator {font-family: monospace;background-color: #f0f8ff;border: 1px dotted black;border-radius: 0.25em;box-sizing: border-box;margin-bottom: 0.5em;}#sk-container-id-8 div.sk-estimator:hover {background-color: #d4ebff;}#sk-container-id-8 div.sk-parallel-item::after {content: \"\";width: 100%;border-bottom: 1px solid gray;flex-grow: 1;}#sk-container-id-8 div.sk-label:hover label.sk-toggleable__label {background-color: #d4ebff;}#sk-container-id-8 div.sk-serial::before {content: \"\";position: absolute;border-left: 1px solid gray;box-sizing: border-box;top: 0;bottom: 0;left: 50%;z-index: 0;}#sk-container-id-8 div.sk-serial {display: flex;flex-direction: column;align-items: center;background-color: white;padding-right: 0.2em;padding-left: 0.2em;position: relative;}#sk-container-id-8 div.sk-item {position: relative;z-index: 1;}#sk-container-id-8 div.sk-parallel {display: flex;align-items: stretch;justify-content: center;background-color: white;position: relative;}#sk-container-id-8 div.sk-item::before, #sk-container-id-8 div.sk-parallel-item::before {content: \"\";position: absolute;border-left: 1px solid gray;box-sizing: border-box;top: 0;bottom: 0;left: 50%;z-index: -1;}#sk-container-id-8 div.sk-parallel-item {display: flex;flex-direction: column;z-index: 1;position: relative;background-color: white;}#sk-container-id-8 div.sk-parallel-item:first-child::after {align-self: flex-end;width: 50%;}#sk-container-id-8 div.sk-parallel-item:last-child::after {align-self: flex-start;width: 50%;}#sk-container-id-8 div.sk-parallel-item:only-child::after {width: 0;}#sk-container-id-8 div.sk-dashed-wrapped {border: 1px dashed gray;margin: 0 0.4em 0.5em 0.4em;box-sizing: border-box;padding-bottom: 0.4em;background-color: white;}#sk-container-id-8 div.sk-label label {font-family: monospace;font-weight: bold;display: inline-block;line-height: 1.2em;}#sk-container-id-8 div.sk-label-container {text-align: center;}#sk-container-id-8 div.sk-container {/* jupyter's `normalize.less` sets `[hidden] { display: none; }` but bootstrap.min.css set `[hidden] { display: none !important; }` so we also need the `!important` here to be able to override the default hidden behavior on the sphinx rendered scikit-learn.org. See: https://github.com/scikit-learn/scikit-learn/issues/21755 */display: inline-block !important;position: relative;}#sk-container-id-8 div.sk-text-repr-fallback {display: none;}</style><div id=\"sk-container-id-8\" class=\"sk-top-container\"><div class=\"sk-text-repr-fallback\"><pre>LinearRegression()</pre><b>In a Jupyter environment, please rerun this cell to show the HTML representation or trust the notebook. <br />On GitHub, the HTML representation is unable to render, please try loading this page with nbviewer.org.</b></div><div class=\"sk-container\" hidden><div class=\"sk-item\"><div class=\"sk-estimator sk-toggleable\"><input class=\"sk-toggleable__control sk-hidden--visually\" id=\"sk-estimator-id-8\" type=\"checkbox\" checked><label for=\"sk-estimator-id-8\" class=\"sk-toggleable__label sk-toggleable__label-arrow\">LinearRegression</label><div class=\"sk-toggleable__content\"><pre>LinearRegression()</pre></div></div></div></div></div>"
      ],
      "text/plain": [
       "LinearRegression()"
      ]
     },
     "execution_count": 297,
     "metadata": {},
     "output_type": "execute_result"
    }
   ],
   "source": [
    "model.fit(X_train_imputed, y_train_imputed)"
   ]
  },
  {
   "cell_type": "code",
   "execution_count": 298,
   "id": "7a65085f-21cd-47d8-bb71-562858d37e12",
   "metadata": {},
   "outputs": [],
   "source": [
    "y_pred = model.predict(X_test_imputed)"
   ]
  },
  {
   "cell_type": "code",
   "execution_count": 299,
   "id": "d9187748-3ab9-47ad-9ad5-3f1378df85c3",
   "metadata": {},
   "outputs": [],
   "source": [
    "r2 = r2_score(y_test_imputed, y_pred)"
   ]
  },
  {
   "cell_type": "code",
   "execution_count": 300,
   "id": "a18713c3-8e76-403a-86f2-8771d13ca540",
   "metadata": {},
   "outputs": [
    {
     "name": "stdout",
     "output_type": "stream",
     "text": [
      "R-squared score: 0.2688315660534313\n"
     ]
    }
   ],
   "source": [
    "print(\"R-squared score:\", r2)"
   ]
  },
  {
   "cell_type": "markdown",
   "id": "05ceec47-6169-4b65-bb40-e8608deafe7d",
   "metadata": {},
   "source": [
    "The R-squared score, quantifies how well the predictions made by the model explain the variation in the actual target values. It ranges from 0 to 1, where a higher value indicates a better fit of the model to the data.\n",
    "\n",
    "R-squared score: 0.2688\n",
    "\n",
    "This score assesses how well our model's predictions account for the variations in customer-related factors.\n",
    "\n",
    "A higher score suggests that our model is capturing a portion of the factors that influence customer behavior.\n",
    "\n",
    "In this instance, the R-squared score is approximately 0.2688, indicating that roughly 26.88% of the differences in customer behavior can be attributed to our model's predictions.\n",
    "\n",
    "In summary, while the R-squared score of 0.2688 demonstrates that our model provides insights into customer behavior, there's still potential for enhancing the predictive power to better understand and respond to customer tendencies."
   ]
  },
  {
   "cell_type": "code",
   "execution_count": 301,
   "id": "c83d2fab-18ec-4d4a-a852-cea12bb5b96b",
   "metadata": {},
   "outputs": [],
   "source": [
    "mse = mean_squared_error(y_test_imputed, y_pred)"
   ]
  },
  {
   "cell_type": "code",
   "execution_count": 302,
   "id": "6c4f2289-c587-4e7b-a83f-87a602f4f7cd",
   "metadata": {},
   "outputs": [],
   "source": [
    "rmse = mean_squared_error(y_test_imputed, y_pred, squared=False)"
   ]
  },
  {
   "cell_type": "code",
   "execution_count": 303,
   "id": "1eada1d9-0e08-40c1-8cae-0b7b7da00d6f",
   "metadata": {},
   "outputs": [
    {
     "name": "stdout",
     "output_type": "stream",
     "text": [
      "Mean Squared Error (MSE): 0.7042414756471576\n",
      "Root Mean Squared Error (RMSE): 0.8391909649460947\n"
     ]
    }
   ],
   "source": [
    "print(\"Mean Squared Error (MSE):\", mse)\n",
    "print(\"Root Mean Squared Error (RMSE):\", rmse)"
   ]
  },
  {
   "cell_type": "markdown",
   "id": "47f57e9b-e28e-4ecc-9bf2-8315e911bce3",
   "metadata": {},
   "source": [
    "Mean Squared Error (MSE): 0.7042\n",
    "\n",
    "The MSE gauges the average squared difference between our model's predicted values and the actual values in customer analysis.\n",
    "\n",
    "Lower MSE values indicate that our model's predictions are closer to the real customer-related figures.\n",
    "\n",
    "In this case, the MSE value is about 0.7042, suggesting that, on average, the square of the differences between our predictions and actual values is this value.\n",
    "\n",
    "\n",
    "Root Mean Squared Error (RMSE): 0.8392\n",
    "\n",
    "The RMSE, derived from the square root of the MSE, provides an understandable metric in the same unit as customer data.\n",
    "\n",
    "It reflects the typical magnitude of the errors in our model's customer-related predictions.\n",
    "\n",
    "With an RMSE value of approximately 0.8392, we get an insight into the average size of prediction errors.\n",
    "\n",
    "In summary, the MSE and RMSE values of 0.7042 and 0.8392, respectively, indicate how well our model's predictions align with actual customer-related data. Lower values are desired, signifying more accurate predictions for understanding customer behaviors."
   ]
  },
  {
   "cell_type": "markdown",
   "id": "01089642-98f0-4433-8795-89733521676c",
   "metadata": {},
   "source": [
    "Our model's performance in customer analysis is summarized by the following metrics:\n",
    "\n",
    "R-squared score: 0.2688\n",
    "\n",
    "This score signifies that our model explains about 26.88% of the variability in customer behavior. While it contributes insights, there's room for refinement.\n",
    "\n",
    "Mean Squared Error (MSE): 0.7042\n",
    "\n",
    "The average squared difference between our model's predictions and actual values. Lower MSE values indicate more accurate predictions.\n",
    "Root Mean Squared Error (RMSE): 0.8392\n",
    "\n",
    "\n",
    "The square root of MSE, providing an understandable measure in the same unit as customer data. It reflects average prediction errors.\n",
    "In essence, our model's predictions offer insights into customer behavior, albeit with room for improvement. It's crucial to continue refining the model to enhance its predictive capabilities and better capture the nuances of customer interactions."
   ]
  },
  {
   "cell_type": "markdown",
   "id": "636404c1-9981-41f8-ae2d-3dafa85f59ed",
   "metadata": {},
   "source": []
  },
  {
   "cell_type": "markdown",
   "id": "27227739-9afc-4627-a619-5a6030164d87",
   "metadata": {},
   "source": [
    "Exploration"
   ]
  },
  {
   "cell_type": "code",
   "execution_count": 304,
   "id": "0a7f3e8d-78ff-4e4a-92c7-0f4a82a5d4ab",
   "metadata": {},
   "outputs": [
    {
     "data": {
      "image/png": "[encoded data removed]",
      "text/plain": [
       "<Figure size 640x480 with 1 Axes>"
      ]
     },
     "metadata": {},
     "output_type": "display_data"
    }
   ],
   "source": [
    "import matplotlib.pyplot as plt\n",
    "import seaborn as sns\n",
    "sns.boxplot(data['TOTAL_CLAIM_AMOUNT'])\n",
    "plt.show()"
   ]
  },
  {
   "cell_type": "code",
   "execution_count": 305,
   "id": "7b292b23-0c18-422f-99cf-65e1adcbc0d7",
   "metadata": {},
   "outputs": [
    {
     "data": {
      "image/png": "[encoded data removed]",
      "text/plain": [
       "<Figure size 1200x800 with 8 Axes>"
      ]
     },
     "metadata": {},
     "output_type": "display_data"
    }
   ],
   "source": [
    "plt.figure(figsize=(12, 8))\n",
    "for i, col in enumerate(numerical_cols, 1):\n",
    "    plt.subplot(3, 3, i)\n",
    "    sns.histplot(data[col], kde=True)  # Create histogram with density plot\n",
    "    plt.title(col)\n",
    "    plt.tight_layout()\n",
    "\n",
    "plt.show()"
   ]
  },
  {
   "cell_type": "code",
   "execution_count": null,
   "id": "5435d514-310b-461a-9952-0ed2b69e0101",
   "metadata": {},
   "outputs": [],
   "source": []
  }
 ],
 "metadata": {
  "kernelspec": {
   "display_name": "Python 3 (ipykernel)",
   "language": "python",
   "name": "python3"
  },
  "language_info": {
   "codemirror_mode": {
    "name": "ipython",
    "version": 3
   },
   "file_extension": ".py",
   "mimetype": "text/x-python",
   "name": "python",
   "nbconvert_exporter": "python",
   "pygments_lexer": "ipython3",
   "version": "3.10.9"
  }
 },
 "nbformat": 4,
 "nbformat_minor": 5
}
